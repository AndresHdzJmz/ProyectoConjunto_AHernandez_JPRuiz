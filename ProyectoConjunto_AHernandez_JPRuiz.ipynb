{
 "cells": [
  {
   "cell_type": "markdown",
   "metadata": {},
   "source": [
    "Expectativas de la clase."
   ]
  },
  {
   "cell_type": "markdown",
   "metadata": {},
   "source": [
    "### `Juan Pablo Ruiz Magaña`\n",
    "\n",
    "#### *Expectativas de clase*:\n",
    "\n",
    "* Espero obtener las competencias necesarias para simular procesos financieros.\n",
    "\n",
    "* Espero mejorar mi forma de programar de forma que esta sea más eficiente.\n",
    "\n",
    "* Refrescar los fundamentos de MonteCarlo así como estudiar sus aplicaciones.\n",
    "\n",
    "* Lograr un buen manejo del software de control de versiones Git."
   ]
  },
  {
   "cell_type": "markdown",
   "metadata": {},
   "source": [
    "| i | 1 | 2 | 3 | 4 | 5 | 6 | 7 |\n",
    "|:-:|-|-|-|-|-|-|-|\n",
    "| $$E_i(V)$$ | 12 | 10 | 24 | 12 | - | - | - |\n",
    "| $$r_i(\\Omega)$$ | 0.1 | 0.5 | 0.2 | 0.5 | - | - | - |\n",
    "| $$R_i(\\Omega)$$ | 25 | 40 | 16 | 20 | 9 | 4 | 20 |\n"
   ]
  },
  {
   "cell_type": "markdown",
   "metadata": {},
   "source": [
    "\n",
    "<p style=\"text-align:justify\"><small style=\"font-family:serif%;color:dodgerblue;font-size:115%\">&nbsp; Kemna y Vorst (1990)</small> <small style=\"font-family:serif;font-size:110%\"> muestran que las opciones asiáticas con media geométrica continua se pueden valuar con el mismo enfoque de las opciones</small> <i style=\"font-family:serif;font-size=110%\"> plain vanilla; </i> <small style=\"font-family:serif;font-size:110%\"> solo se deben cambiar los parámetros de volatilidad ${\\sigma}$ por ${\\sigma_a}$, y el costo de acarreo ${b}$ por ${b_A}$.<br> </small> <small style=\"font-family:serif;font-size:110%\">&nbsp; De acuerdo con Kemna y Vorst, las fórmulas para valuar una opción de compra y una opción de venta son:\n",
    "\n",
    "\\begin{align*}\n",
    "  \\begin{split}\n",
    "    c\\ {\\approx}\\ S_te^{(b_A-r)(T-t)}{\\Phi}(d_1) - Ke^{-r(T-t)}{\\Phi}\\ (d_2)\\\\\n",
    "     p\\ {\\approx}\\ Ke^{(T-t)}{\\Phi}(-d_2) - S_te^{(b_A-r)(T-t)}{\\Phi}\\ (-d_1).\n",
    "  \\end{split}   \n",
    "  \\end{align*}\n",
    "\n",
    "<small style=\"font-family:serif;font-size:110%\">con ${d_1}$ y ${d_2}$ dados por:\n"
   ]
  },
  {
   "cell_type": "markdown",
   "metadata": {},
   "source": [
    "\n",
    "\n",
    "\n"
   ]
  },
  {
   "cell_type": "code",
   "execution_count": null,
   "metadata": {},
   "outputs": [],
   "source": []
  }
 ],
 "metadata": {
  "kernelspec": {
   "display_name": "Python 3",
   "language": "python",
   "name": "python3"
  },
  "language_info": {
   "codemirror_mode": {
    "name": "ipython",
    "version": 3
   },
   "file_extension": ".py",
   "mimetype": "text/x-python",
   "name": "python",
   "nbconvert_exporter": "python",
   "pygments_lexer": "ipython3",
   "version": "3.7.9"
  }
 },
 "nbformat": 4,
 "nbformat_minor": 4
}
