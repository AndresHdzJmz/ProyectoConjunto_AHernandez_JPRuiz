{
 "cells": [
  {
   "cell_type": "markdown",
   "metadata": {},
   "source": [
    "Expectativas de la clase."
   ]
  },
  {
   "cell_type": "markdown",
   "metadata": {},
   "source": [
    "### `Juan Pablo Ruiz Magaña`\n",
    "\n",
    "#### *Expectativas de clase*:\n",
    "\n",
    "* Espero obtener las competencias necesarias para simular procesos financieros.\n",
    "\n",
    "* Espero mejorar mi forma de programar de forma que esta sea más eficiente.\n",
    "\n",
    "* Refrescar los fundamentos de MonteCarlo así como estudiar sus aplicaciones.\n",
    "\n",
    "* Lograr un buen manejo del software de control de versiones Git."
   ]
  }
 ],
 "metadata": {
  "kernelspec": {
   "display_name": "Python 3",
   "language": "python",
   "name": "python3"
  },
  "language_info": {
   "codemirror_mode": {
    "name": "ipython",
    "version": 3
   },
   "file_extension": ".py",
   "mimetype": "text/x-python",
   "name": "python",
   "nbconvert_exporter": "python",
   "pygments_lexer": "ipython3",
   "version": "3.7.9"
  }
 },
 "nbformat": 4,
 "nbformat_minor": 4
}
